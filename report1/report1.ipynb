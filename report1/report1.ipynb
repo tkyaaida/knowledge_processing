{
 "cells": [
  {
   "cell_type": "code",
   "execution_count": 9,
   "metadata": {},
   "outputs": [],
   "source": [
    "from pathlib import Path\n",
    "import MeCab\n",
    "import pickle\n",
    "from nlptoolbox.preprocess.preprocess_wikipedia_text import extract_sentences\n",
    "from nlptoolbox.preprocess.vocabulary import Vocabulary\n",
    "from nlptoolbox.preprocess.tokenizer import Tokenizer\n",
    "import matplotlib.pyplot as plt\n",
    "import numpy as np\n",
    "%matplotlib inline"
   ]
  },
  {
   "cell_type": "code",
   "execution_count": 2,
   "metadata": {},
   "outputs": [],
   "source": [
    "sentences = []\n",
    "\n",
    "text_dir = Path('./data/text/')\n",
    "for d in text_dir.iterdir():\n",
    "    for article_file in d.iterdir():\n",
    "        with article_file.open('r') as f:\n",
    "            lines = f.readlines()\n",
    "            sentences.extend(extract_sentences(lines))"
   ]
  },
  {
   "cell_type": "code",
   "execution_count": 3,
   "metadata": {},
   "outputs": [
    {
     "data": {
      "text/plain": [
       "7781879"
      ]
     },
     "execution_count": 3,
     "metadata": {},
     "output_type": "execute_result"
    }
   ],
   "source": [
    "len(sentences)"
   ]
  },
  {
   "cell_type": "code",
   "execution_count": 5,
   "metadata": {},
   "outputs": [],
   "source": [
    "tokenizer = Tokenizer()\n",
    "token_sequences = []\n",
    "for sentence in sentences:\n",
    "    token_sequence = tokenizer.tokenize(sentence)\n",
    "    token_sequences.append(token_sequence)"
   ]
  },
  {
   "cell_type": "code",
   "execution_count": 6,
   "metadata": {},
   "outputs": [
    {
     "data": {
      "text/plain": [
       "['タウノ・ヴァルデマール・パロ',\n",
       " '(、',\n",
       " '1908',\n",
       " '年',\n",
       " '10',\n",
       " '月',\n",
       " '25',\n",
       " '日',\n",
       " '-',\n",
       " '1982',\n",
       " '年',\n",
       " '5',\n",
       " '月',\n",
       " '24',\n",
       " '日',\n",
       " ')',\n",
       " 'は',\n",
       " 'フィンランド',\n",
       " 'の',\n",
       " '俳優',\n",
       " '、',\n",
       " '歌手',\n",
       " '。',\n",
       " '一部',\n",
       " 'で',\n",
       " 'フィンランド',\n",
       " '映画',\n",
       " 'の',\n",
       " '黄金',\n",
       " '時代',\n",
       " 'と',\n",
       " '考え',\n",
       " 'られ',\n",
       " 'た',\n",
       " '時代',\n",
       " 'に',\n",
       " '活躍',\n",
       " 'し',\n",
       " 'た',\n",
       " '。']"
      ]
     },
     "execution_count": 6,
     "metadata": {},
     "output_type": "execute_result"
    }
   ],
   "source": [
    "token_sequences[0]"
   ]
  },
  {
   "cell_type": "code",
   "execution_count": 7,
   "metadata": {},
   "outputs": [],
   "source": [
    "token_counts = Vocabulary.count_tokens(token_sequences)"
   ]
  },
  {
   "cell_type": "code",
   "execution_count": 9,
   "metadata": {},
   "outputs": [
    {
     "data": {
      "text/plain": [
       "2355432"
      ]
     },
     "execution_count": 9,
     "metadata": {},
     "output_type": "execute_result"
    }
   ],
   "source": [
    "len(token_counts)"
   ]
  },
  {
   "cell_type": "code",
   "execution_count": 10,
   "metadata": {},
   "outputs": [
    {
     "data": {
      "text/plain": [
       "15004251"
      ]
     },
     "execution_count": 10,
     "metadata": {},
     "output_type": "execute_result"
    }
   ],
   "source": [
    "token_counts['は']"
   ]
  },
  {
   "cell_type": "code",
   "execution_count": 12,
   "metadata": {},
   "outputs": [],
   "source": [
    "# 単語のカウント辞書を保存\n",
    "import pickle\n",
    "with open('token_counts.data', 'wb') as f:\n",
    "    pickle.dump(token_counts, f)"
   ]
  },
  {
   "cell_type": "code",
   "execution_count": 2,
   "metadata": {},
   "outputs": [],
   "source": [
    "with open('token_counts.data', 'rb') as f:\n",
    "    token_counts = pickle.load(f)"
   ]
  },
  {
   "cell_type": "code",
   "execution_count": 3,
   "metadata": {},
   "outputs": [],
   "source": [
    "sorted_counts = [v for _, v in sorted(token_counts.items(), key=lambda x: -x[-1])]"
   ]
  },
  {
   "cell_type": "code",
   "execution_count": 11,
   "metadata": {},
   "outputs": [
    {
     "data": {
      "text/plain": [
       "[<matplotlib.lines.Line2D at 0x7fb77b39eda0>]"
      ]
     },
     "execution_count": 11,
     "metadata": {},
     "output_type": "execute_result"
    },
    {
     "data": {
      "image/png": "[encoded data removed]",
      "text/plain": [
       "<Figure size 432x288 with 1 Axes>"
      ]
     },
     "metadata": {},
     "output_type": "display_data"
    }
   ],
   "source": [
    "x = np.array(list(range(len(sorted_counts)))) + 1\n",
    "y = np.array(sorted_counts)\n",
    "\n",
    "plt.plot(list(range(len(sorted_counts))), sorted_counts, 'ro', markersize=3)"
   ]
  },
  {
   "cell_type": "code",
   "execution_count": 13,
   "metadata": {},
   "outputs": [
    {
     "data": {
      "text/plain": [
       "[<matplotlib.lines.Line2D at 0x7fb78ed3da20>]"
      ]
     },
     "execution_count": 13,
     "metadata": {},
     "output_type": "execute_result"
    },
    {
     "data": {
      "image/png": "[encoded data removed]",
      "text/plain": [
       "<Figure size 432x288 with 1 Axes>"
      ]
     },
     "metadata": {},
     "output_type": "display_data"
    }
   ],
   "source": [
    "x_log = np.log(x)\n",
    "y_log = np.log(y)\n",
    "\n",
    "plt.plot(x_log, y_log, 'ro', markersize=3)"
   ]
  },
  {
   "cell_type": "code",
   "execution_count": 16,
   "metadata": {},
   "outputs": [
    {
     "name": "stdout",
     "output_type": "stream",
     "text": [
      "傾き: -1.4561773928944137\n"
     ]
    },
    {
     "data": {
      "image/png": "[encoded data removed]",
      "text/plain": [
       "<Figure size 432x288 with 1 Axes>"
      ]
     },
     "metadata": {},
     "output_type": "display_data"
    }
   ],
   "source": [
    "# 直線のフィッティング\n",
    "a, b = np.polyfit(x_log, y_log, 1)\n",
    "y_log_fitted = a * x_log + b\n",
    "\n",
    "# plot\n",
    "plt.plot(x_log, y_log, 'ro', markersize=3)\n",
    "plt.plot(x_log, y_log_fitted)\n",
    "print(f'傾き: {a}')"
   ]
  },
  {
   "cell_type": "code",
   "execution_count": 19,
   "metadata": {},
   "outputs": [
    {
     "data": {
      "text/plain": [
       "[{'の': 25328129},\n",
       " {'、': 23690906},\n",
       " {'。': 16890869},\n",
       " {'に': 16146417},\n",
       " {'は': 15004251},\n",
       " {'を': 12957411},\n",
       " {'た': 12910142},\n",
       " {'が': 10805259},\n",
       " {'で': 10763669},\n",
       " {'て': 7963512}]"
      ]
     },
     "execution_count": 19,
     "metadata": {},
     "output_type": "execute_result"
    }
   ],
   "source": [
    "[{k: v} for k, v in sorted(token_counts.items(), key=lambda x: -x[-1])][:10]"
   ]
  },
  {
   "cell_type": "code",
   "execution_count": 20,
   "metadata": {},
   "outputs": [
    {
     "name": "stdout",
     "output_type": "stream",
     "text": [
      "出現回数が1の単語の割合: 56.22985507541717 %\n"
     ]
    }
   ],
   "source": [
    "counter = 0\n",
    "for k, v in token_counts.items():\n",
    "    if v == 1:\n",
    "        counter += 1\n",
    "# 出現度が1の単語の割合\n",
    "print(f'出現回数が1の単語の割合: {counter / len(token_counts) * 100} %')"
   ]
  },
  {
   "cell_type": "code",
   "execution_count": 28,
   "metadata": {},
   "outputs": [],
   "source": [
    "count_words = {}  # {出現頻度: その出現頻度の単語数}\n",
    "for _, v in token_counts.items():\n",
    "    if v in count_words:\n",
    "        count_words[v] += 1\n",
    "    else:\n",
    "        count_words[v] = 1"
   ]
  },
  {
   "cell_type": "code",
   "execution_count": 33,
   "metadata": {},
   "outputs": [],
   "source": [
    "num_word = []\n",
    "count = []\n",
    "for k, v in count_words.items():\n",
    "    num_word.append(v)\n",
    "    count.append(k)"
   ]
  },
  {
   "cell_type": "code",
   "execution_count": 36,
   "metadata": {},
   "outputs": [],
   "source": [
    "import matplotlib.pyplot as plt\n",
    "import numpy as np\n",
    "%matplotlib inline"
   ]
  },
  {
   "cell_type": "code",
   "execution_count": 42,
   "metadata": {},
   "outputs": [
    {
     "data": {
      "text/plain": [
       "[<matplotlib.lines.Line2D at 0x7fc651c6ab38>]"
      ]
     },
     "execution_count": 42,
     "metadata": {},
     "output_type": "execute_result"
    },
    {
     "data": {
      "image/png": "[encoded data removed]",
      "text/plain": [
       "<Figure size 432x288 with 1 Axes>"
      ]
     },
     "metadata": {},
     "output_type": "display_data"
    }
   ],
   "source": [
    "plt.plot(num_word, count, 'ro', markersize=2)"
   ]
  },
  {
   "cell_type": "code",
   "execution_count": 43,
   "metadata": {},
   "outputs": [
    {
     "data": {
      "text/plain": [
       "[<matplotlib.lines.Line2D at 0x7fc651c4a630>]"
      ]
     },
     "execution_count": 43,
     "metadata": {},
     "output_type": "execute_result"
    },
    {
     "data": {
      "image/png": "[encoded data removed]",
      "text/plain": [
       "<Figure size 432x288 with 1 Axes>"
      ]
     },
     "metadata": {},
     "output_type": "display_data"
    }
   ],
   "source": [
    "plt.plot(np.log(np.array(num_word)), np.log(np.array(count)), 'ro', markersize=2)"
   ]
  },
  {
   "cell_type": "code",
   "execution_count": null,
   "metadata": {},
   "outputs": [],
   "source": []
  }
 ],
 "metadata": {
  "kernelspec": {
   "display_name": "Python 3",
   "language": "python",
   "name": "python3"
  },
  "language_info": {
   "codemirror_mode": {
    "name": "ipython",
    "version": 3
   },
   "file_extension": ".py",
   "mimetype": "text/x-python",
   "name": "python",
   "nbconvert_exporter": "python",
   "pygments_lexer": "ipython3",
   "version": "3.6.5"
  }
 },
 "nbformat": 4,
 "nbformat_minor": 2
}
